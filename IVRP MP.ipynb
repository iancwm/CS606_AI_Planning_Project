{
 "cells": [
  {
   "cell_type": "code",
   "execution_count": 1,
   "metadata": {},
   "outputs": [],
   "source": [
    "from ivrp import *"
   ]
  },
  {
   "cell_type": "code",
   "execution_count": 2,
   "metadata": {},
   "outputs": [],
   "source": [
    "# load data and random seed\n",
    "parsed = Parser(\"IRP_small_instances\\IRP_HighT3\\S_abs1n5_2_H3.dat\")\n",
    "\n",
    "ivrp = IVRP(parsed.name, parsed.depot, parsed.customers, parsed.vehicles, parsed.nPeriods)"
   ]
  },
  {
   "cell_type": "code",
   "execution_count": 3,
   "metadata": {},
   "outputs": [],
   "source": [
    "n_cust = len(ivrp.customers)\n",
    "n_node = n_cust+1\n",
    "n_veh = len(ivrp.vehicles)\n",
    "t_period = ivrp.nPeriods+1"
   ]
  },
  {
   "cell_type": "code",
   "execution_count": 4,
   "metadata": {},
   "outputs": [],
   "source": [
    "A=[]\n",
    "for i in range(n_cust):\n",
    "    for j in range(n_cust):\n",
    "        if i!=j:\n",
    "            A.append((ivrp.customers[i].id,ivrp.customers[j].id))"
   ]
  },
  {
   "cell_type": "code",
   "execution_count": 5,
   "metadata": {},
   "outputs": [],
   "source": [
    "c = {(i,j) : cdist([[ivrp.customers[int(i-1)].x, ivrp.customers[int(i-1)].y]], [[ivrp.customers[int(j-1)].x, ivrp.customers[int(j-1)].y]], 'euclidean')[0][0] for (i,j) in A}"
   ]
  },
  {
   "cell_type": "code",
   "execution_count": 6,
   "metadata": {},
   "outputs": [],
   "source": [
    "for i in range(1,n_node):\n",
    "    A.append((0,i))\n",
    "    c[0,i]=cdist([[ivrp.depot.x, ivrp.depot.y]], [[ivrp.customers[int(i-1)].x, ivrp.customers[int(i-1)].y]], 'euclidean')[0][0]\n",
    "    c[i,0]=c[0,i]\n"
   ]
  },
  {
   "cell_type": "code",
   "execution_count": 7,
   "metadata": {},
   "outputs": [],
   "source": [
    "h={}\n",
    "h[0] = ivrp.depot.h\n",
    "for i in ivrp.customers:\n",
    "    h[i.id]=i.h"
   ]
  },
  {
   "cell_type": "code",
   "execution_count": 8,
   "metadata": {},
   "outputs": [],
   "source": [
    "I=[]\n",
    "for i in range(1,t_period):\n",
    "    for j in range(n_node):\n",
    "        I.append((j,i))"
   ]
  },
  {
   "cell_type": "code",
   "execution_count": 9,
   "metadata": {},
   "outputs": [],
   "source": [
    "r=ivrp.depot.r"
   ]
  },
  {
   "cell_type": "code",
   "execution_count": 10,
   "metadata": {},
   "outputs": [],
   "source": [
    "Q=[]\n",
    "for i in range(1,n_node):\n",
    "    for k in range(n_veh):\n",
    "        for t in range(t_period):\n",
    "            Q.append((i,k,t))"
   ]
  },
  {
   "cell_type": "code",
   "execution_count": 11,
   "metadata": {},
   "outputs": [],
   "source": [
    "X=[]\n",
    "for i in range(n_node):\n",
    "    for j in range(n_node):\n",
    "        if j!=i:\n",
    "            for k in range(n_veh):\n",
    "                for t in range(1,t_period):\n",
    "                    X.append((i,j,k,t))"
   ]
  },
  {
   "cell_type": "code",
   "execution_count": 12,
   "metadata": {},
   "outputs": [],
   "source": [
    "d={}\n",
    "for i in ivrp.customers:\n",
    "    d[i.id]=i.r"
   ]
  },
  {
   "cell_type": "code",
   "execution_count": 13,
   "metadata": {},
   "outputs": [],
   "source": [
    "l={}\n",
    "for i in ivrp.customers:\n",
    "    l[i.id]=i.l"
   ]
  },
  {
   "cell_type": "code",
   "execution_count": 14,
   "metadata": {},
   "outputs": [],
   "source": [
    "u={}\n",
    "for i in ivrp.customers:\n",
    "    u[i.id]=i.u"
   ]
  },
  {
   "cell_type": "code",
   "execution_count": 15,
   "metadata": {},
   "outputs": [
    {
     "name": "stdout",
     "output_type": "stream",
     "text": [
      "solution for: ivrp\n",
      "objective: 8815.52\n",
      "inv_0_1=638.000\n",
      "inv_1_1=130.000\n",
      "inv_2_1=35.000\n",
      "inv_4_1=24.000\n",
      "inv_0_2=687.000\n",
      "inv_1_2=65.000\n",
      "inv_2_2=35.000\n",
      "inv_4_2=29.000\n",
      "inv_5_2=11.000\n",
      "inv_0_3=822.000\n",
      "inv_4_3=5.000\n",
      "qty_1_1_1=65.000\n",
      "qty_2_0_2=35.000\n",
      "qty_3_0_2=58.000\n",
      "qty_3_0_3=58.000\n",
      "qty_4_0_2=29.000\n",
      "qty_5_0_2=22.000\n",
      "y_1_0_2=1\n",
      "y_1_0_3=1\n",
      "y_1_1_1=1\n",
      "y_2_0_2=1\n",
      "y_3_0_2=1\n",
      "y_3_0_3=1\n",
      "y_3_1_1=1\n",
      "y_4_0_2=1\n",
      "y_5_0_2=1\n",
      "w_1_0_2=144.000\n",
      "w_1_0_3=144.000\n",
      "w_1_1_1=65.000\n",
      "w_2_0_2=122.000\n",
      "w_3_0_1=144.000\n",
      "w_3_0_2=58.000\n",
      "w_3_0_3=58.000\n",
      "w_3_1_1=65.000\n",
      "w_4_0_2=87.000\n",
      "w_5_0_2=144.000\n",
      "x_0_1_1_1=1\n",
      "x_0_3_0_2=1\n",
      "x_0_3_0_3=1\n",
      "x_1_0_0_2=1\n",
      "x_1_0_0_3=1\n",
      "x_1_3_1_1=1\n",
      "x_2_5_0_2=1\n",
      "x_3_0_1_1=1\n",
      "x_3_1_0_3=1\n",
      "x_3_4_0_2=1\n",
      "x_4_2_0_2=1\n",
      "x_5_1_0_2=1\n",
      "\n"
     ]
    }
   ],
   "source": [
    "from docplex.mp.model import Model\n",
    "m=Model('ivrp')\n",
    "\n",
    "# i(i,t) = inventory level of customer i in period t\n",
    "# q(i,k,t) = qunatity delivered to customer i via vehicle k in period t\n",
    "# y(i,k,t) = 1 if customer i is visited by vehicle k in period t\n",
    "# w(i,k,t) = cumulative qty delivered by k up to and incl. cust i in t\n",
    "# x(i,j,k,t) = 1 if customer j is visited after customer i via k in t\n",
    "inv = m.continuous_var_dict(I, name='inv')\n",
    "q = m.continuous_var_dict(Q, lb=0, name='qty')\n",
    "y = m.binary_var_dict(Q, name='y')\n",
    "w = m.continuous_var_dict(Q, lb=0, name='w')\n",
    "x = m.binary_var_dict(X, name='x')\n",
    "\n",
    "inv[(0,0)]=ivrp.depot.i\n",
    "for i in ivrp.customers:\n",
    "    inv[(i.id,0)]=i.i\n",
    "\n",
    "\n",
    "#(1) Objective function\n",
    "m.minimize(m.sum(h[i]*inv[(i,t)] + c[(i,j)]*x[(i,j,k,t)] \n",
    "                 for i in range(n_node) \n",
    "                 for j in range(n_node) if j !=i \n",
    "                 for k in range(n_veh) \n",
    "                 for t in range(1,t_period)))\n",
    "\n",
    "#(2) Inv at Depot this period = last period's + production - delivered\n",
    "m.add_constraints((inv[(0,t)] == inv[(0,t-1)] + r - \n",
    "                  (m.sum(q[(i,k,t)] \n",
    "                         for i in range(1,n_node)\n",
    "                         for k in range(n_veh))))\n",
    "                for t in range(1,t_period))\n",
    "\n",
    "#(3) Inv at Depot >=0\n",
    "m.add_constraints(inv[(0,t)]>=0 for t in range(1,t_period))\n",
    "\n",
    "#(4) Inv at Cust this period = last period's - consumption + delivered\n",
    "m.add_constraints((inv[(i,t)] == inv[(i,t-1)] - d[i]\n",
    "                  + m.sum(q[(i,k,t)] \n",
    "                         for k in range(n_veh)))\n",
    "                 for i in range(1,n_node)\n",
    "                 for t in range(1,t_period))\n",
    "\n",
    "#(5) Inv at Cust >= lower bound\n",
    "m.add_constraints((inv[(i,t)]>=l[i])\n",
    "                 for i in range(1,n_node)\n",
    "                 for t in range(1,t_period))\n",
    "\n",
    "#(6) Inv at Cust <= upper bound\n",
    "m.add_constraints((inv[i,t]<=u[i])\n",
    "                 for i in range(1,n_node)\n",
    "                 for t in range(1,t_period))\n",
    "\n",
    "#(7) Qty delivery exceed space in Cust warehouse (i.e. upper - existing inv)\n",
    "m.add_constraints(m.sum(q[(i,k,t)] for k in range(n_veh))<= u[i] - inv[(i,t-1)]\n",
    "                 for i in range(1,n_node)\n",
    "                 for t in range(1,t_period))\n",
    "\n",
    "#(8) If x is 1, qty delivered<capacity, if x is 0, qty delivered=0\n",
    "m.add_constraints((m.sum(q[(i,k,t)] for k in range(n_veh)) <= \n",
    "                  u[i]*m.sum((x[(i,j,k,t)] \n",
    "                        for j in range(1,n_node) if j!=i\n",
    "                        for k in range(n_veh))))\n",
    "                  for i in range(1,n_node)\n",
    "                  for t in range(1,t_period))\n",
    "\n",
    "#(9) Qty to be delivered by each vehicle within vehicle's capacity\n",
    "m.add_constraints(m.sum(q[(i,k,t)] for i in range(1,n_node)) <= \n",
    "                  ivrp.vehicles[k].Q \n",
    "                  for k in range(n_veh) \n",
    "                  for t in range(1,t_period))\n",
    "                  \n",
    "#(10) qty delivered to each cust is below capacity if visited, and 0 if not visited\n",
    "m.add_constraints(q[(i,k,t)]<=(y[(i,k,t)]*u[i]) \n",
    "                  for i in range(1,n_node)\n",
    "                  for k in range(n_veh)\n",
    "                  for t in range(1,t_period))\n",
    "\n",
    "#(11) there must be a node before and after each visited cust \n",
    "m.add_constraints((m.sum(x[(i,j,k,t)] for j in range(n_node) if i!=j) ==\n",
    "                   m.sum(x[(j,i,k,t)] for j in range(n_node) if j!=i)) \n",
    "                  for i in range(1,n_node)\n",
    "                  for k in range(n_veh)\n",
    "                  for t in range(1,t_period))\n",
    "m.add_constraints((m.sum(x[(i,j,k,t)] for j in range(n_node) if i!=j) ==\n",
    "                   m.sum(y[(i,k,t)])) \n",
    "                  for i in range(1,n_node)\n",
    "                  for k in range(n_veh)\n",
    "                  for t in range(1,t_period))\n",
    "m.add_constraints((m.sum(x[(j,i,k,t)] for j in range(n_node) if j!=i) ==\n",
    "                   m.sum(y[(i,k,t)])) \n",
    "                  for i in range(1,n_node)\n",
    "                  for k in range(n_veh)\n",
    "                  for t in range(1,t_period))\n",
    "#m.add_constraints((m.sum(x[(i,j,k,t)] for j in range(n_node) if i!=j) ==\n",
    "#                   m.sum(x[(j,i,k,t)] for j in range(n_node) if j!=i) ==\n",
    "#                   m.sum(y[(i,k,t)])) \n",
    "#                  for i in range(1,n_node)\n",
    "#                  for k in range(n_veh)\n",
    "#                  for t in range(1,t_period))\n",
    "\n",
    "#(12) at most one route from depot\n",
    "m.add_constraints(m.sum(x[(0,j,k,t)] for j in range(1,n_node)) <= 1 \n",
    "                  for k in range(n_veh) \n",
    "                  for t in range(1,t_period))\n",
    "\n",
    "#(13) at most one veh visited each cust \n",
    "m.add_constraints(m.sum(y[(i,k,t)] for k in range(n_veh)) <= 1\n",
    "                  for i in range(1,n_node) \n",
    "                  for t in range(1,t_period))\n",
    "\n",
    "#(14) routing delivery qty flow \n",
    "m.add_constraints(w[(i,k,t)] - w[(j,k,t)] + (ivrp.vehicles[k].Q)*x[(i,j,k,t)] \n",
    "                  <= ivrp.vehicles[k].Q - q[(j,k,t)] \n",
    "                  for i in range(1,n_node) \n",
    "                  for j in range(1,n_node) if j!=i \n",
    "                  for k in range(n_veh) \n",
    "                  for t in range(1,t_period))\n",
    "\n",
    "#(15) variable logic\n",
    "m.add_constraints(q[(i,k,t)] <= w[(i,k,t)] \n",
    "                  for i in range(1,n_node) \n",
    "                  for k in range(n_veh) \n",
    "                  for t in range(1,t_period))\n",
    "m.add_constraints(w[(i,k,t)] <= ivrp.vehicles[k].Q \n",
    "                  for i in range(1,n_node) \n",
    "                  for k in range(n_veh) \n",
    "                  for t in range(1,t_period))\n",
    "m.add_constraints(q[(i,k,t)] <= ivrp.vehicles[k].Q \n",
    "                  for i in range(1,n_node) \n",
    "                  for k in range(n_veh) \n",
    "                  for t in range(1,t_period))\n",
    "#m.add_constraints(q[(i,k,t)] <= w[(i,k,t)] <= ivrp.vehicles[k].Q \n",
    "#                  for i in range(1,n_node) \n",
    "#                  for k in range(n_veh) \n",
    "#                  for t in range(1,t_period))\n",
    "\n",
    "#(16) & (17)\n",
    "# covered in var definition\n",
    "solution = m.solve(log_output = False)\n",
    "print(solution)"
   ]
  },
  {
   "cell_type": "code",
   "execution_count": null,
   "metadata": {},
   "outputs": [],
   "source": []
  }
 ],
 "metadata": {
  "kernelspec": {
   "display_name": "Python 3",
   "language": "python",
   "name": "python3"
  },
  "language_info": {
   "codemirror_mode": {
    "name": "ipython",
    "version": 3
   },
   "file_extension": ".py",
   "mimetype": "text/x-python",
   "name": "python",
   "nbconvert_exporter": "python",
   "pygments_lexer": "ipython3",
   "version": "3.7.6"
  }
 },
 "nbformat": 4,
 "nbformat_minor": 4
}
