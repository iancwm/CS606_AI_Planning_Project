{
 "cells": [
  {
   "cell_type": "code",
   "execution_count": 282,
   "id": "590ced94-ef42-4013-83f4-27d34ac1a640",
   "metadata": {
    "tags": []
   },
   "outputs": [],
   "source": [
    "'''\n",
    "Description: IVRP State\n",
    "Author: Group 5\n",
    "Date: 2022-03-15\n",
    "LastEditors: Ian Chong, Sean Goh\n",
    "LastEditTime: 2022-03-17\n",
    "'''\n",
    "\n",
    "import copy\n",
    "import numpy as np\n",
    "import random\n",
    "import os\n",
    "import math\n",
    "from sklearn.cluster import KMeans\n",
    "\n",
    "from scipy.spatial.distance import cdist\n",
    "from pathlib import Path\n",
    "\n",
    "from typing import List\n",
    "\n",
    "import sys\n",
    "\n",
    "\n",
    "sys.path.append('./ALNS')\n",
    "from alns import ALNS, State\n",
    "\n",
    "### Parser to parse instance xml file ###\n",
    "# You should not change this class!\n",
    "\n",
    "\n",
    "class Parser(object):\n",
    "    \n",
    "    def __init__(self, dat_file):\n",
    "        '''initialize the parser\n",
    "        Args:\n",
    "            dat_file::str\n",
    "                the path to the .dat file\n",
    "        '''\n",
    "        self.name = os.path.splitext(dat_file)[0]\n",
    "        \n",
    "        self.datContent = [i.strip().split() for i in open(dat_file).readlines()]\n",
    "        \n",
    "        self.nNodes = int(self.datContent[0][0])\n",
    "        self.nPeriods = int(self.datContent[0][1])\n",
    "        self.customers=[]\n",
    "        self.vehicles=[]\n",
    "        self.depot=None\n",
    "        self.set_depot()\n",
    "        self.set_customers()        \n",
    "        self.set_vehicles()\n",
    "    \n",
    "    def set_depot(self):\n",
    "        # Initialize depot\n",
    "        self.depot = Depot(int(self.datContent[1][0]), 0, float(self.datContent[1][1]), float(self.datContent[1][2]), \n",
    "                           int(self.datContent[1][3]), float(self.datContent[1][5]), int(self.datContent[1][4]))\n",
    "    \n",
    "    def set_customers(self):\n",
    "        # Initialize customers    \n",
    "        for i in range(len(self.datContent)):\n",
    "            if i > 1:                \n",
    "                self.customers.append(Customer(int(self.datContent[i][0]), 1, float(self.datContent[i][1]), float(self.datContent[i][2]), \n",
    "                                               int(self.datContent[i][3]), float(self.datContent[i][7]), int(self.datContent[i][6]),\n",
    "                                               int(self.datContent[i][4]), int(self.datContent[i][5])))\n",
    "\n",
    "    def set_vehicles(self):\n",
    "        # Initialize Vehicle\n",
    "        for i in range(int(self.datContent[0][3])):\n",
    "            self.vehicles.append(Vehicle(i, self.depot, self.depot, int(self.datContent[0][2])))\n",
    "        \n",
    "\n",
    "### Node class ###\n",
    "# You should not change this class!\n",
    "\n",
    "\n",
    "class Node(object):\n",
    "\n",
    "    def __init__(self, id:int, type:int, x:float, y:float, i:float, h:float, r:float):\n",
    "        '''Initialize a node\n",
    "        Args:\n",
    "            id::int\n",
    "                id of the node\n",
    "            type::int\n",
    "                0 for depot, 1 for customer\n",
    "            x::float\n",
    "                x coordinate of the node\n",
    "            y::float\n",
    "                y coordinate of the node\n",
    "            i::float\n",
    "                starting inventory level\n",
    "            h::float\n",
    "                inventory cost\n",
    "            r::float\n",
    "                Daily production/(consumption)\n",
    "        '''\n",
    "        self.id = id\n",
    "        self.type = type\n",
    "        self.x = x\n",
    "        self.y = y\n",
    "        self.i = i\n",
    "        self.h = h\n",
    "        self.r = r\n",
    "\n",
    "    def get_nearest_node(self, nodes):\n",
    "        '''Find the nearest node in the list of nodes\n",
    "        Args:\n",
    "            nodes::[Node]\n",
    "                a list of nodes\n",
    "        Returns:\n",
    "            node::Node\n",
    "                the nearest node found\n",
    "        '''\n",
    "        dis = [cdist([[self.x, self.y]], [[node.x, node.y]], 'euclidean')\n",
    "               for node in nodes]\n",
    "        idx = np.argmin(dis)\n",
    "        return nodes[idx]\n",
    "    \n",
    "    def get_nearest_node_index(self, nodes):\n",
    "        '''Find the nearest node in the list of nodes\n",
    "        Args:\n",
    "            nodes::[Node]\n",
    "                a list of nodes\n",
    "        Returns:\n",
    "            node::Node\n",
    "                the nearest node index found\n",
    "        '''\n",
    "        dis = [cdist([[self.x, self.y]], [[node.x, node.y]], 'euclidean') for node in nodes]\n",
    "        idx = np.argmin(dis)\n",
    "        return idx,nodes[idx]\n",
    "\n",
    "    def __eq__(self, other):\n",
    "        if isinstance(other, Node):\n",
    "            return self.id == other.id and self.type == other.type and self.x == other.x and self.y == other.y\n",
    "        return False\n",
    "\n",
    "    def __str__(self):\n",
    "        return 'Node id: {}, type: {}, x: {}, y: {}'.format(self.id, self.type, self.x, self.y)\n",
    "\n",
    "### Depot class ###\n",
    "\n",
    "class Depot(Node):\n",
    "\n",
    "    def __init__(self, id:int, type:int, x:float, y:float, i:int, h:float, r:int):\n",
    "        '''Initialize a depot\n",
    "        Args:\n",
    "            id::int\n",
    "                id of the node\n",
    "            type::int\n",
    "                0 for depot, 1 for customer\n",
    "            x::float\n",
    "                x coordinate of the node\n",
    "            y::float\n",
    "                y coordinate of the node\n",
    "            i::int\n",
    "                starting inventory level\n",
    "            h::float\n",
    "                inventory cost\n",
    "            r::int\n",
    "                Daily production/(cost)\n",
    "        '''\n",
    "        super(Depot, self).__init__(id, type, x, y, i, h, r)\n",
    "        \n",
    "        # Initialize current inventory level\n",
    "        self.current_inventory=i\n",
    "        self.starting_inventories=[i]\n",
    "        \n",
    "        # Keep track of inventory costs\n",
    "        self.inventory_cost=0\n",
    "        self.inventory_costs=[]\n",
    "    \n",
    "    def __str__(self):\n",
    "        return 'Node id: {}, type: {}, x: {}, y: {}, starting_inventory: {}, inventory_cost: {}, daily_production: {}'.format(self.id, self.type, self.x, self.y, self.i, self.h, self.r)\n",
    "    \n",
    "    def load(self,vehicle,load_policy:str='max',exact_load:float=None):\n",
    "        '''Load a vehicle\n",
    "        Args:\n",
    "            vehicle::Vehicle\n",
    "                Vehicle to load inventory\n",
    "            load_policy::str ('max','exact','none')\n",
    "                Determines how much to load\n",
    "            exact_load::float\n",
    "                If load_policy is 'exact', load the vechicle with this amount.            \n",
    "        '''\n",
    "        \n",
    "        if load_policy=='max':\n",
    "            inventory_loaded=min(self.current_inventory,vehicle.Q)\n",
    "        elif load_policy=='exact':\n",
    "            inventory_loaded=exact_load\n",
    "        elif load_policy=='none':\n",
    "            inventory_loaded=None\n",
    "        \n",
    "        vehicle.current_inventory+=inventory_loaded\n",
    "        self.current_inventory-=inventory_loaded\n",
    "        \n",
    "    \n",
    "    def accrue_cost(self):\n",
    "        ''' Calculate cost for the period\n",
    "        '''\n",
    "        periodcost=self.current_inventory*self.h\n",
    "        self.inventory_cost+=periodcost\n",
    "        self.inventory_costs.append(periodcost)\n",
    "    \n",
    "    def produce(self):\n",
    "        ''' Produce inventory for the period\n",
    "        '''\n",
    "        self.current_inventory+=self.r\n",
    "        self.starting_inventories.append(self.current_inventory)\n",
    "    def end_period(self):\n",
    "        self.accrue_cost()\n",
    "        self.produce()\n",
    "        \n",
    "        \n",
    "### Customer class ###\n",
    "# You should not change this class!\n",
    "\n",
    "\n",
    "class Customer(Node):\n",
    "\n",
    "    def __init__(self, id:int, type:int, x:float, y:float, i:int, h:float, r:int, u:int, l:int):\n",
    "        '''Initialize a customer\n",
    "        Args:\n",
    "            id::int\n",
    "                id of the node\n",
    "            type::int\n",
    "                0 for depot, 1 for customer\n",
    "            x::float\n",
    "                x coordinate of the node\n",
    "            y::float\n",
    "                y coordinate of the node\n",
    "            i::int\n",
    "                Starting inventory level\n",
    "            h::float\n",
    "                Inventory cost\n",
    "            r::int\n",
    "                Daily production/(cost)\n",
    "            u::int\n",
    "                Maximum inventory level\n",
    "            l::int\n",
    "                Minimum inventory level\n",
    "        '''\n",
    "        super(Customer, self).__init__(id, type, x, y, i, h, r)        \n",
    "        self.u=u\n",
    "        self.l=l\n",
    "        \n",
    "        # Inventory cost used in calculating objective function\n",
    "        self.inventory_cost=0\n",
    "        self.inventory_costs=[]\n",
    "        self.current_inventory=self.i\n",
    "        self.starting_inventories=[]\n",
    "        self.starting_inventories.append(i)\n",
    "        self.inventories_recieved=[]\n",
    "\n",
    "    def __str__(self):\n",
    "        return 'Node id: {}, type: {}, x: {}, y: {}, starting_inventory: {}, inventory_cost: {}, daily_production?: {} , min_inv: {} , max_inventory {} '.format(self.id, self.type, self.x, self.y, self.i, self.h,self.r, self.l,self.u)\n",
    "    \n",
    "    def accrue_cost(self):\n",
    "        cost=self.current_inventory*self.h\n",
    "        self.inventory_cost+=cost\n",
    "        self.inventory_costs.append(cost)\n",
    "        \n",
    "    def consume(self):\n",
    "        self.current_inventory-=self.r\n",
    "        self.starting_inventories.append(self.current_inventory)\n",
    "        \n",
    "        \n",
    "    def end_period(self):\n",
    "        self.consume()\n",
    "        self.accrue_cost()\n",
    "\n",
    "### Vehicle class ###\n",
    "# Vehicle class. You could add your own helper functions freely to the class, and not required to use the functions defined\n",
    "# But please keep the rest untouched!\n",
    "\n",
    "\n",
    "class Vehicle(object):\n",
    "\n",
    "    def __init__(self, id:int, start_node:Node, end_node:Node, Q:float):\n",
    "        ''' Initialize the vehicle\n",
    "        Args:\n",
    "            id::int\n",
    "                id of the vehicle\n",
    "            start_node::Node\n",
    "                starting node of the vehicle\n",
    "            end_node::Node\n",
    "                ending node of the vehicle\n",
    "            Q::float\n",
    "                Vehicle capacity            \n",
    "        '''\n",
    "        self.id = id\n",
    "        self.start_node = start_node\n",
    "        self.end_node = end_node        \n",
    "        self.Q = Q\n",
    "        \n",
    "        # To keep track of current node\n",
    "        self.current_node= start_node\n",
    "\n",
    "        # To keep track of inventory\n",
    "        self.current_inventory=0\n",
    "        \n",
    "        # travel time of the vehicle\n",
    "        self.travel_cost = 0\n",
    "        \n",
    "        # all the nodes including depot, customers, or charging stations (if any) visited by the vehicle\n",
    "        self.node_visited = [self.start_node]  # start from depot\n",
    "\n",
    "    def check_return(self):\n",
    "        ''' Check whether the vehicle's return to the depot\n",
    "        Return True if returned, False otherwise\n",
    "        '''\n",
    "        if len(self.node_visited) > 1:\n",
    "            return self.node_visited[-1] == self.end_node\n",
    "    \n",
    "    def move(self,node_start:Node,node_end:Node):\n",
    "        ''' Move the vehicle to next node, and deliver if customer\n",
    "        Args:            \n",
    "            node_start::Node\n",
    "                Node to move from\n",
    "            node_end::Node\n",
    "                Node to move to\n",
    "            \n",
    "        '''\n",
    "        \n",
    "        self.travel_cost+=cdist([(node_start.x,node_start.y)],[(node_end.x,node_end.y)])\n",
    "        self.current_node=node_end\n",
    "        self.node_visited.append(node_end)\n",
    "            \n",
    "    def unload(self,node:Customer,unload_policy:str,exact_unload:float=None):        \n",
    "        '''Unloads inventory from vehicle to node\n",
    "        Args:\n",
    "            node::Customer\n",
    "                The node to unload at\n",
    "            unload_policy::str ('max','exact')\n",
    "                Determines how to unload inventory.\n",
    "            exact_unload::float\n",
    "                Inventory to unload under 'exact' policy\n",
    "        '''\n",
    "        if unload_policy=='max':\n",
    "            inventory_unloaded = min(node.u - node.current_inventory,self.current_inventory)\n",
    "                        \n",
    "        elif unload_policy=='exact':\n",
    "            inventory_unloaded=exact_unload\n",
    "                            \n",
    "        elif unload_policy=='none':\n",
    "            inventory_unloaded=0                \n",
    "        \n",
    "        node.current_inventory+=inventory_unloaded\n",
    "        self.current_inventory-=inventory_unloaded\n",
    "        \n",
    "    def __str__(self):\n",
    "        return 'Vehicle id: {}, vehicle_capacity: {}'\\\n",
    "            .format(self.id, self.Q)\n",
    "\n",
    "### EVRP state class ###\n",
    "# EVRP state class. You could and should add your own helper functions to the class\n",
    "# But please keep the rest untouched!\n",
    "\n",
    "\n",
    "class IVRP(State):\n",
    "\n",
    "    def __init__(self, name, depot: Depot, customers: List[Customer], vehicles: List[Vehicle], nPeriods:int, destruction: float = 0.25):\n",
    "        '''Initialize the EVRP state\n",
    "        Args:\n",
    "            name::str\n",
    "                name of the instance\n",
    "            depot::Depot\n",
    "                depot of the instance\n",
    "            customers::[Customer]\n",
    "                customers of the instance            \n",
    "            vehicles::[Vehicle]   \n",
    "                Vehicles of the instance\n",
    "            nPeriods::int\n",
    "                Number of periods to simulate\n",
    "            destruction::Float\n",
    "                Degree of destruction to be passed onto destroy operators where appropriate\n",
    "        '''\n",
    "        self.name = name\n",
    "        self.depot = depot\n",
    "        self.customers = customers        \n",
    "        # record the vehicle used\n",
    "        self.vehicles = vehicles\n",
    "        # record numer of periods\n",
    "        self.nPeriods = nPeriods\n",
    "        # record the visited customers, eg. [Customer1, Customer2]\n",
    "        self.customer_visited = []\n",
    "        # record the unvisited customers, eg. [Customer9, Customer10]\n",
    "        self.customer_unvisited = []\n",
    "        # the route visited by each vehicle, eg. [vehicle1.node_visited, vehicle2.node_visited, ..., vehicleN.node_visited]\n",
    "        self.route = []\n",
    "        # Degree of destruction for destroy operators where appropriate\n",
    "        self.destruction = destruction\n",
    "        self.kmlabels=[] #shape of num_customers,num_ks\n",
    "        self.num_k=0\n",
    "        self.k_values=[]\n",
    "        self.max_period_restock=vehicles[-1].Q*len(vehicles)\n",
    "        self.tsp_route=[]\n",
    "        self.tsp_route_cid=[]\n",
    "        self.customer_latestrestock=[int(customer.i/customer.r) for customer in self.customers]\n",
    "        self.dq=[] #dq=delivery quantities\n",
    "        self.ei=[] #ei=ending inventories\n",
    "        self.ei_depot=[0]\n",
    "        self.euc2d=[]\n",
    "        self.solutionspace=[[] for periods in range(self.nPeriods+1)]\n",
    "\n",
    "    def random_initialize(self, seed=None):\n",
    "        ''' Randomly initialize the state with split_route() (your construction heuristic)\n",
    "        Args:\n",
    "            seed::int\n",
    "                random seed\n",
    "        Returns:\n",
    "            objective::float\n",
    "                objective value of the state\n",
    "        '''\n",
    "        if seed is not None:\n",
    "            random.seed(606)\n",
    "        random_tour = copy.deepcopy(self.customers)\n",
    "\n",
    "        random.shuffle(random_tour)\n",
    "        self.split_route(random_tour)\n",
    "        return self.objective()\n",
    "\n",
    "    def copy(self):\n",
    "        return copy.deepcopy(self)\n",
    "\n",
    "    def split_route(self, tour):\n",
    "        '''Generate the route given a tour visiting all the customers\n",
    "        Args:\n",
    "            tour::[Customer]\n",
    "                a tour (list of Nodes) visiting all the customers        \n",
    "        # You should update the following variables for the EVRP\n",
    "        EVRP.vehicles\n",
    "        EVRP.travel_time\n",
    "        EVRP.customer_visited\n",
    "        EVRP.customer_unvisited\n",
    "        EVRP.route\n",
    "        # You should update the following variables for each vehicle used\n",
    "        Vehicle.travel_cost\n",
    "        Vehicle.node_visited\n",
    "        \n",
    "        '''\n",
    "        # You should implement your own method to construct the route of EVRP from any tour visiting all the customers\n",
    "    \n",
    "    def advance_time(self):        \n",
    "        # Consume and then accrue costs\n",
    "        for customer in self.customers:\n",
    "            customer.consume()\n",
    "            customer.accrue_cost()\n",
    "        # Produce inventory at depot\n",
    "        self.depot.produce()\n",
    "        \n",
    "    def initialize_tsp_nn(self):\n",
    "        currentnode=self.depot\n",
    "        tsp=[]\n",
    "        tsp_id=[]\n",
    "        customers=self.customers.copy()\n",
    "        while len(customers)>0:\n",
    "            idx,nextnode=currentnode.get_nearest_node_index(customers)\n",
    "            tsp.append(nextnode)\n",
    "            tsp_id.append(nextnode.id-1) #assumes the customers are always arranged by id and starts with id=1\n",
    "            customers.pop(idx)\n",
    "            currentnode=nextnode\n",
    "        self.tsp_route=tsp\n",
    "        self.tsp_route_cid=tsp_id\n",
    "        \n",
    "    def initialize_kmeans(self):\n",
    "        number_veh = len(self.vehicles)\n",
    "        avg_nodes_per_veh = sum([ customer.r for customer in self.customers]) / self.vehicles[0].Q\n",
    "        long_term_cycle= avg_nodes_per_veh/number_veh\n",
    "        k_set=set([number_veh,int(avg_nodes_per_veh),int(math.ceil(avg_nodes_per_veh)),int(long_term_cycle),int(math.ceil(long_term_cycle))])\n",
    "        k_candidates=[]\n",
    "        for k in k_set:\n",
    "            if k!=0 and k!=1:\n",
    "                k_candidates.append(k)\n",
    "        c_cord=np.array([[customer.x,customer.y] for customer in ivrp.customers])\n",
    "        labels_c_k=np.array([[0 for k in k_candidates] for c in range(len(ivrp.customers))])\n",
    "\n",
    "        for num_k,k in enumerate(k_candidates):\n",
    "            kmeans=KMeans(n_clusters=k, random_state=7).fit(c_cord)\n",
    "            labels=kmeans.labels_\n",
    "            for num_c,label in enumerate(labels):\n",
    "                labels_c_k[num_c,num_k]=label\n",
    "                #find a more efficient representation of labels so that clusters can be pulled out in O(1)\n",
    "                #a list with length of num k. len of labels[k] = n_clusters\n",
    "        \n",
    "        self.kmlabels=labels_c_k\n",
    "        self.num_k=len(k_candidates)\n",
    "        self.k_values=k_candidates\n",
    "        return\n",
    "    \n",
    "    def initialize_euclidean(self):\n",
    "        allnodes=[]\n",
    "        allnodes.append(self.depot)\n",
    "        allnodes.extend(self.customers)\n",
    "        euc2d=[[0 for i in range(len(self.customers)+1)] for j in range(len(self.customers)+1) ]\n",
    "        for i in range(len(allnodes)):\n",
    "            for j in range(i,len(allnodes)):\n",
    "                x1,y1=allnodes[i].x,allnodes[i].y\n",
    "                x2,y2=allnodes[j].x,allnodes[j].y\n",
    "                dist=((x1-x2)**2+(y1-y2)**2)**0.5\n",
    "                euc2d[i][j]=dist\n",
    "                euc2d[j][i]=dist\n",
    "        self.euc2d=euc2d\n",
    "                           \n",
    "            \n",
    "    \n",
    "    def destroyrepair_clusters_feasible(self):\n",
    "        #to figure out:\n",
    "        #how much to stock\n",
    "        #randomly pick a cluster to restock - \n",
    "        currentbuffer=self.customer_latestrestock.copy()\n",
    "        currentstock=[customer.i for customer in self.customers]\n",
    "        self.ei.append(currentstock)\n",
    "        cus_periodrestock=[[0 for p in range(self.nPeriods+1)] for c in self.customers] #customer by period matrixlist\n",
    "        ei=[[0 for p in range(self.nPeriods+1)] for c in self.customers]\n",
    "        excess_stock = 0\n",
    "        \n",
    "        for period in range(1,self.nPeriods+1):\n",
    "            urgent_customers=[]\n",
    "            min_restock=0\n",
    "            currentbuffer=[buffer-1 for buffer in currentbuffer]\n",
    "            currentstock=[cus_stock-self.customers[num].r for num,cus_stock in enumerate(currentstock)]\n",
    "            #print('currentbuffer')\n",
    "            #print(currentbuffer)\n",
    "            for num_cus,buffer in enumerate(currentbuffer):\n",
    "                if buffer==0: #make solution feasible first if possible\n",
    "                    urgent_customers.append(num_cus)\n",
    "                    restockamount=self.customers[num_cus].r-currentstock[num_cus]\n",
    "                    min_restock+=restockamount\n",
    "                    #update current stock first\n",
    "                    currentstock[num_cus]+=restockamount\n",
    "                    cus_periodrestock[num_cus][period]+=restockamount\n",
    "                    currentbuffer[num_cus]=1\n",
    "            #print(\"currentbuffer after adj\")\n",
    "            #print(currentbuffer)\n",
    "            remaining_restock = min(self.max_period_restock-min_restock,excess_stock+self.depot.r-min_restock)\n",
    "            #choose clusters to allocate - pick cluster that you HAVE to restock and try to load them up\n",
    "            #Need to pick: 1) What k to use 2) which cluster to pick\n",
    "            #How to load them up - just dump max in one of the clusters\n",
    "            \n",
    "            #randomize what k to use from a list of valid ks pre-computed\n",
    "            choose_k_id=random.choice([i for i in range(self.num_k)])\n",
    "            choose_k=ivrp.k_values[choose_k_id]\n",
    "            #create probability distribution function\n",
    "            cluster_dist={ label:1 for label in range(choose_k)}\n",
    "            total_prob=choose_k\n",
    "            for cus in urgent_customers:\n",
    "                label=ivrp.kmlabels[cus,choose_k_id]\n",
    "                cluster_dist[label]+=10\n",
    "                total_prob+=10\n",
    "            #normalize distribution\n",
    "            cluster_dist_norm={ k:v/total_prob for (k,v) in cluster_dist.items()}\n",
    "            \n",
    "            \n",
    "            while remaining_restock>0 and len(cluster_dist_norm) >0:\n",
    "                choose_customer_cluster=random.choices(list(cluster_dist_norm.keys()),list(cluster_dist_norm.values()))[0]\n",
    "                remaining_capacity=[customer.u-currentstock[idx] for idx,customer in enumerate(self.customers)]\n",
    "                customer_indexes=[]\n",
    "                cluster_label=choose_customer_cluster\n",
    "                for cus_num,label in enumerate(self.kmlabels[:,choose_k_id]):\n",
    "                    if label==cluster_label:\n",
    "                        customer_indexes.append(cus_num)\n",
    "                cluster_remaining_capacity={idx:remaining_capacity[idx] for idx in customer_indexes}\n",
    "                #print(cluster_remaining_capacity)\n",
    "                maxfill=sum(cluster_remaining_capacity.values())\n",
    "                if remaining_restock>=maxfill:\n",
    "                    for k,v in cluster_remaining_capacity.items():\n",
    "                        currentstock[k]+=v\n",
    "                        currentbuffer[k]=int(self.customers[k].u/self.customers[k].r)\n",
    "                        cus_periodrestock[k][period]+=v\n",
    "                    remaining_restock-=maxfill\n",
    "                else:\n",
    "                    while remaining_restock>0:\n",
    "                        #choose customer k\n",
    "                        #maybe should instead choose the lowest to fill\n",
    "                        k=random.choice(list(cluster_remaining_capacity.keys()))\n",
    "                        v=cluster_remaining_capacity[k]\n",
    "                        add_stock=min(v,remaining_restock)\n",
    "                        currentstock[k]+=add_stock\n",
    "                        currentbuffer[k]=int(currentstock[k]/self.customers[k].r)\n",
    "                        remaining_restock-=add_stock\n",
    "                        cus_periodrestock[k][period]+=add_stock\n",
    "                        cluster_remaining_capacity.pop(k)                                                \n",
    "                \n",
    "                #update probability distribution function dictionary\n",
    "                total_prob-=cluster_dist_norm[choose_customer_cluster]\n",
    "                cluster_dist_norm.pop(choose_customer_cluster)\n",
    "                cluster_dist=cluster_dist_norm\n",
    "                #renormalize probabilities\n",
    "                if len(cluster_dist)>0:\n",
    "                    cluster_dist_norm={ k:v/total_prob for (k,v) in cluster_dist.items()}\n",
    "            if remaining_restock>0:\n",
    "                excess_stock+=remaining_stock\n",
    "            #record ending inventory\n",
    "            endinginventory=[cus_stock-self.customers[num].r for num,cus_stock in enumerate(currentstock)]\n",
    "            self.ei.append(endinginventory)\n",
    "            self.ei_depot.append(excess_stock)\n",
    "        self.dq=np.array(cus_periodrestock)\n",
    "        \n",
    "        return np.array(cus_periodrestock)\n",
    "    \n",
    "    def create_tour_from_tsp(self):\n",
    "        solution_space=[]\n",
    "        # solution space has a shape of time period by vehicles\n",
    "        # i.e [[]]\n",
    "        for period in range(1,self.nPeriods+1):\n",
    "            deliveredqtys=0\n",
    "            vehiclemaxcap=self.vehicles[0].Q\n",
    "            vehiclecap=vehiclemaxcap\n",
    "            remainingtotalcap=len(self.vehicles)*vehiclemaxcap\n",
    "            vehicleroute=[]\n",
    "            vehicle_idx=0\n",
    "            \n",
    "            for cidx in range(len(self.customers)):\n",
    "                qty=self.dq[cidx,period]\n",
    "                if qty>0 and qty<=vehiclecap:\n",
    "                    vehiclecap-=qty\n",
    "                    \n",
    "                    vehicleroute.append((cidx,qty))\n",
    "                elif qty>vehiclecap:\n",
    "                    while qty>0:\n",
    "                        adjqty=min(qty,vehiclecap)\n",
    "                        vehicleroute.append((cidx,adjqty))\n",
    "                        #update solution space\n",
    "                        self.solutionspace[period].append(vehicleroute)\n",
    "                        qty-=adjqty\n",
    "                    \n",
    "                        #restart vehicle\n",
    "                        vehicleroute=[]\n",
    "                        vehicle_idx+=1\n",
    "                        vehiclecap=vehiclemaxcap\n",
    "                    \n",
    "                    #adjqty=qty-adjqty\n",
    "            if len(vehicleroute)>0:\n",
    "                self.solutionspace[period].append(vehicleroute)\n",
    "    \n",
    "                    \n",
    "                    \n",
    "\n",
    "        \n",
    "        \n",
    "    def objective(self):\n",
    "        ''' Calculate the objective value of the state\n",
    "        Return the total travel time and charging time of all vehicles used\n",
    "        '''\n",
    "        distancecost=0\n",
    "        for num,period in enumerate(self.solutionspace):\n",
    "            #print(period)\n",
    "            for veh_num,veh in enumerate(self.solutionspace[num]):\n",
    "                startidx=0\n",
    "                for route_num,route in enumerate(veh):\n",
    "                    nextcus,qty=route\n",
    "                    nextidx=nextcus+1\n",
    "                    distancecost+=self.euc2d[startidx][nextidx]\n",
    "                    if route_num+1==len(veh):\n",
    "                        startidx=nextidx\n",
    "                        nextidx=0\n",
    "                        distancecost+=self.euc2d[startidx][nextidx]\n",
    "        inventorycost=0\n",
    "        for i in range(1,len(self.ei)):\n",
    "            endinginventories=self.ei[i]\n",
    "            period_inventorycost=sum([ v*self.customers[k].h for k,v in enumerate(endinginventories)]) +self.ei_depot[i]\n",
    "            inventorycost+=period_inventorycost\n",
    "                \n",
    "        \n",
    "        return distancecost+inventorycost"
   ]
  },
  {
   "cell_type": "code",
   "execution_count": 294,
   "id": "8b86ee74-b3ab-4559-8a26-09febc478138",
   "metadata": {},
   "outputs": [
    {
     "name": "stdout",
     "output_type": "stream",
     "text": [
      "2931.785824737637\n",
      "[[130, 70, 58, 48, 11], [0, 70, 43, 0, 11], [0, 35, 58, 31, 0], [117, 0, 0, 7, 0]]\n"
     ]
    }
   ],
   "source": [
    "# load data and random seed\n",
    "parsed = Parser(\"IRP_HighT3\\S_abs1n5_2_H3.dat\")\n",
    "\n",
    "\n",
    "ivrp = IVRP(parsed.name, parsed.depot, parsed.customers, parsed.vehicles, parsed.nPeriods)\n",
    "ivrp.initialize_kmeans()\n",
    "ivrp.initialize_euclidean()\n",
    "ivrp.initialize_tsp_nn()\n",
    "\n",
    "a=ivrp.destroyrepair_clusters_feasible()\n",
    "ivrp.create_tour_from_tsp()\n",
    "print(ivrp.objective())\n",
    "print(ivrp.ei)\n",
    "    "
   ]
  },
  {
   "cell_type": "code",
   "execution_count": 264,
   "id": "c2e7b1e8-a6cb-4304-a155-9648281068aa",
   "metadata": {},
   "outputs": [
    {
     "name": "stdout",
     "output_type": "stream",
     "text": [
      "[[130, 70, 58, 48, 11], [124, 0, 0, 0, 0], [59, 0, 58, 7, 0], [76, 0, 0, 48, 0]]\n"
     ]
    }
   ],
   "source": [
    "print(ivrp.ei)"
   ]
  },
  {
   "cell_type": "code",
   "execution_count": 286,
   "id": "f40e6238-48eb-42ac-88cb-f8cd98f901a9",
   "metadata": {},
   "outputs": [
    {
     "data": {
      "text/plain": [
       "[[130, 70, 58, 48, 11],\n",
       " [43, 70, 0, 0, 11],\n",
       " [89, 35, 0, 0, 0],\n",
       " [24, 0, 52, 48, 0]]"
      ]
     },
     "execution_count": 286,
     "metadata": {},
     "output_type": "execute_result"
    }
   ],
   "source": [
    "ivrp.ei"
   ]
  },
  {
   "cell_type": "code",
   "execution_count": 287,
   "id": "ed987f52-27c0-4eee-b572-8a2c66472033",
   "metadata": {},
   "outputs": [
    {
     "name": "stdout",
     "output_type": "stream",
     "text": [
      "[9.89, 22.400000000000002, 0.0, 0.0, 1.98]\n",
      "[20.470000000000002, 11.200000000000001, 0.0, 0.0, 0.0]\n",
      "[5.5200000000000005, 0.0, 17.16, 11.040000000000001, 0.0]\n"
     ]
    }
   ],
   "source": [
    "inventorycost=0\n",
    "for i in range(1,len(ivrp.ei)):\n",
    "    endinginventories=ivrp.ei[i]\n",
    "    period_inventorycost=sum([ v*ivrp.customers[k].h for k,v in enumerate(endinginventories)]) +ivrp.ei_depot[i]\n",
    "    print([ v*ivrp.customers[k].h for k,v in enumerate(endinginventories)])\n",
    "    inventorycost+=period_inventorycost\n",
    "\n",
    "    "
   ]
  },
  {
   "cell_type": "code",
   "execution_count": 285,
   "id": "4f14fc98-1212-44b1-bb22-7390e58a6a27",
   "metadata": {},
   "outputs": [
    {
     "data": {
      "text/plain": [
       "[0, 0, 0, 0]"
      ]
     },
     "execution_count": 285,
     "metadata": {},
     "output_type": "execute_result"
    }
   ],
   "source": [
    "ivrp.ei_depot"
   ]
  },
  {
   "cell_type": "code",
   "execution_count": 289,
   "id": "e7c0c186-6bb5-409a-9030-5f492c191913",
   "metadata": {},
   "outputs": [
    {
     "data": {
      "text/plain": [
       "0.23"
      ]
     },
     "execution_count": 289,
     "metadata": {},
     "output_type": "execute_result"
    }
   ],
   "source": [
    "ivrp.customers[0].h"
   ]
  },
  {
   "cell_type": "code",
   "execution_count": 291,
   "id": "6c2e6136-ed90-4363-87e9-73cb193699fb",
   "metadata": {},
   "outputs": [
    {
     "name": "stdout",
     "output_type": "stream",
     "text": [
      "9.89\n"
     ]
    }
   ],
   "source": [
    "print(43*0.23)"
   ]
  },
  {
   "cell_type": "code",
   "execution_count": 43,
   "id": "b9c976d8-b718-43cc-9287-c86932227f52",
   "metadata": {},
   "outputs": [
    {
     "name": "stdout",
     "output_type": "stream",
     "text": [
      "Node id: 2, type: 1, x: 267.0, y: 87.0, starting_inventory: 70, inventory_cost: 0.32, daily_production?: 35 , min_inv: 105 , max_inventory 0 \n"
     ]
    }
   ],
   "source": [
    "print(ivrp.customers[1])"
   ]
  },
  {
   "cell_type": "code",
   "execution_count": 4,
   "id": "d00d30d3-a8f4-484d-9c70-f5c7f46e1c6e",
   "metadata": {},
   "outputs": [],
   "source": [
    "ivrp.initialize_kmeans()"
   ]
  },
  {
   "cell_type": "code",
   "execution_count": 5,
   "id": "07aa0525-cb78-4d80-afd4-805958298808",
   "metadata": {},
   "outputs": [
    {
     "data": {
      "text/plain": [
       "[2, 2, 1, 2, 1]"
      ]
     },
     "execution_count": 5,
     "metadata": {},
     "output_type": "execute_result"
    }
   ],
   "source": [
    "ivrp.customer_latestrestock"
   ]
  },
  {
   "cell_type": "code",
   "execution_count": 6,
   "id": "9c8d2b46-df3f-496c-964c-0ae6cf262ae0",
   "metadata": {},
   "outputs": [],
   "source": [
    "cus_periodrestock=[[0 for p in range(ivrp.nPeriods+1)] for c in ivrp.customers]"
   ]
  },
  {
   "cell_type": "code",
   "execution_count": 7,
   "id": "31c9aa0a-520a-4ea5-b798-7e3a8fcb960c",
   "metadata": {},
   "outputs": [
    {
     "data": {
      "text/plain": [
       "[[0, 0, 0, 0], [0, 0, 0, 0], [0, 0, 0, 0], [0, 0, 0, 0], [0, 0, 0, 0]]"
      ]
     },
     "execution_count": 7,
     "metadata": {},
     "output_type": "execute_result"
    }
   ],
   "source": [
    "cus_periodrestock"
   ]
  },
  {
   "cell_type": "code",
   "execution_count": 8,
   "id": "a9722436-ae6d-45eb-a163-0698b91e515e",
   "metadata": {},
   "outputs": [
    {
     "data": {
      "text/plain": [
       "[0, 0, 0, 0]"
      ]
     },
     "execution_count": 8,
     "metadata": {},
     "output_type": "execute_result"
    }
   ],
   "source": [
    "cus_periodrestock[0]"
   ]
  },
  {
   "cell_type": "code",
   "execution_count": 97,
   "id": "ba8d8274-8053-43ef-a0e9-a0f7eca14f08",
   "metadata": {},
   "outputs": [],
   "source": [
    "choose_k_id=random.choice([i for i in range(ivrp.num_k)])\n",
    "            #create probability distribution function\n",
    "choose_k=ivrp.k_values[choose_k_id]\n",
    "cluster_dist={ label:1 for label in range(choose_k)}\n",
    "total_prob=choose_k\n",
    "for cus in [1,3]:\n",
    "    label=ivrp.kmlabels[cus,choose_k_id]\n",
    "    cluster_dist[label]+=10\n",
    "    total_prob+=10\n",
    "            #normalize distribution\n",
    "cluster_dist_norm={ k:v/total_prob for (k,v) in cluster_dist.items()}"
   ]
  },
  {
   "cell_type": "code",
   "execution_count": 79,
   "id": "b76bb65d-0765-49a8-829c-263acc5a361b",
   "metadata": {},
   "outputs": [
    {
     "data": {
      "text/plain": [
       "0"
      ]
     },
     "execution_count": 79,
     "metadata": {},
     "output_type": "execute_result"
    }
   ],
   "source": [
    "label"
   ]
  },
  {
   "cell_type": "code",
   "execution_count": 80,
   "id": "684f6888-ce0d-4a83-9460-a23690a66172",
   "metadata": {},
   "outputs": [
    {
     "data": {
      "text/plain": [
       "{}"
      ]
     },
     "execution_count": 80,
     "metadata": {},
     "output_type": "execute_result"
    }
   ],
   "source": [
    "cluster_dist"
   ]
  },
  {
   "cell_type": "code",
   "execution_count": 81,
   "id": "2c2b4594-67dd-4edb-9af2-b541a4097373",
   "metadata": {},
   "outputs": [],
   "source": [
    "cluster_dist={ label:1 for label in range(choose_k)}"
   ]
  },
  {
   "cell_type": "code",
   "execution_count": 82,
   "id": "03f8d6e6-8680-41d4-9fcb-c0a7e5ba8527",
   "metadata": {},
   "outputs": [
    {
     "data": {
      "text/plain": [
       "{}"
      ]
     },
     "execution_count": 82,
     "metadata": {},
     "output_type": "execute_result"
    }
   ],
   "source": [
    "cluster_dist"
   ]
  },
  {
   "cell_type": "code",
   "execution_count": 94,
   "id": "33e8a32e-95ee-4cba-9440-2b2fd23ea347",
   "metadata": {},
   "outputs": [
    {
     "data": {
      "text/plain": [
       "2"
      ]
     },
     "execution_count": 94,
     "metadata": {},
     "output_type": "execute_result"
    }
   ],
   "source": [
    "choose_k"
   ]
  },
  {
   "cell_type": "code",
   "execution_count": 92,
   "id": "f2ec4bc6-8252-4c33-a41d-17ad6f799485",
   "metadata": {},
   "outputs": [
    {
     "data": {
      "text/plain": [
       "[2]"
      ]
     },
     "execution_count": 92,
     "metadata": {},
     "output_type": "execute_result"
    }
   ],
   "source": [
    "ivrp.k_values"
   ]
  },
  {
   "cell_type": "code",
   "execution_count": 95,
   "id": "aaec6571-2f14-4d66-b099-e9e5a8b26ebd",
   "metadata": {},
   "outputs": [
    {
     "data": {
      "text/plain": [
       "{0: 1, 1: 1}"
      ]
     },
     "execution_count": 95,
     "metadata": {},
     "output_type": "execute_result"
    }
   ],
   "source": [
    "cluster_dist"
   ]
  },
  {
   "cell_type": "code",
   "execution_count": 96,
   "id": "08204739-567c-451c-9c89-944a81b222ae",
   "metadata": {},
   "outputs": [
    {
     "name": "stdout",
     "output_type": "stream",
     "text": [
      "[[1]\n",
      " [0]\n",
      " [1]\n",
      " [1]\n",
      " [0]]\n"
     ]
    }
   ],
   "source": [
    "print(ivrp.kmlabels)"
   ]
  },
  {
   "cell_type": "code",
   "execution_count": 146,
   "id": "078761ec-1a4d-483d-96c1-e6c102d2a2d8",
   "metadata": {},
   "outputs": [],
   "source": [
    "choose_k_id=random.choice([i for i in range(ivrp.num_k)])\n",
    "            #create probability distribution function\n",
    "choose_k=ivrp.k_values[choose_k_id]\n",
    "cluster_dist={ label:1 for label in range(choose_k)}\n",
    "total_prob=choose_k\n",
    "for cus in [1,3]:\n",
    "    label=ivrp.kmlabels[cus,choose_k_id]\n",
    "    cluster_dist[label]+=10\n",
    "    total_prob+=10\n",
    "            #normalize distribution\n",
    "cluster_dist_norm={ k:v/total_prob for (k,v) in cluster_dist.items()}"
   ]
  },
  {
   "cell_type": "code",
   "execution_count": 155,
   "id": "eb162814-45a0-486f-8c71-e540c9fcb420",
   "metadata": {},
   "outputs": [
    {
     "name": "stdout",
     "output_type": "stream",
     "text": [
      "1\n",
      "{0: 0.5}\n"
     ]
    }
   ],
   "source": [
    "choose_k_id=random.choice([i for i in range(ivrp.num_k)])\n",
    "            #create probability distribution function\n",
    "choose_k=ivrp.k_values[choose_k_id]\n",
    "cluster_dist={ label:1 for label in range(choose_k)}\n",
    "total_prob=choose_k\n",
    "for cus in [1,3]:\n",
    "    label=ivrp.kmlabels[cus,choose_k_id]\n",
    "    cluster_dist[label]+=10\n",
    "    total_prob+=10\n",
    "            #normalize distribution\n",
    "cluster_dist_norm={ k:v/total_prob for (k,v) in cluster_dist.items()}\n",
    "choose_customer_cluster=random.choices(list(cluster_dist_norm.keys()),list(cluster_dist_norm.values()))[0]\n",
    "print(choose_customer_cluster)             \n",
    "    \n",
    "cluster_dist_norm.pop(choose_customer_cluster)\n",
    "print(cluster_dist_norm)"
   ]
  },
  {
   "cell_type": "code",
   "execution_count": 107,
   "id": "2891c3ec-88cc-449e-b4ef-9699d125704b",
   "metadata": {},
   "outputs": [
    {
     "data": {
      "text/plain": [
       "[0.5, 0.5]"
      ]
     },
     "execution_count": 107,
     "metadata": {},
     "output_type": "execute_result"
    }
   ],
   "source": [
    "list(cluster_dist_norm.values())"
   ]
  },
  {
   "cell_type": "code",
   "execution_count": 109,
   "id": "8064b980-c04f-4bf6-a290-2acfa33aadcd",
   "metadata": {},
   "outputs": [
    {
     "data": {
      "text/plain": [
       "[0]"
      ]
     },
     "execution_count": 109,
     "metadata": {},
     "output_type": "execute_result"
    }
   ],
   "source": [
    "choose_customer_cluster"
   ]
  },
  {
   "cell_type": "code",
   "execution_count": 116,
   "id": "9a6cdcf4-e76e-48db-919d-9452103b9ea4",
   "metadata": {},
   "outputs": [
    {
     "data": {
      "text/plain": [
       "[0, 1]"
      ]
     },
     "execution_count": 116,
     "metadata": {},
     "output_type": "execute_result"
    }
   ],
   "source": [
    "list(cluster_dist_norm.keys())"
   ]
  },
  {
   "cell_type": "code",
   "execution_count": 117,
   "id": "c9e3c9d9-24f2-472a-b2f0-26e5425f14b7",
   "metadata": {},
   "outputs": [
    {
     "data": {
      "text/plain": [
       "[0.5, 0.5]"
      ]
     },
     "execution_count": 117,
     "metadata": {},
     "output_type": "execute_result"
    }
   ],
   "source": [
    "list(cluster_dist_norm.values())"
   ]
  },
  {
   "cell_type": "code",
   "execution_count": null,
   "id": "f6fc5775-be55-4015-ae53-6b9a1cb5ffb7",
   "metadata": {},
   "outputs": [],
   "source": []
  }
 ],
 "metadata": {
  "kernelspec": {
   "display_name": "Python 3",
   "language": "python",
   "name": "python3"
  },
  "language_info": {
   "codemirror_mode": {
    "name": "ipython",
    "version": 3
   },
   "file_extension": ".py",
   "mimetype": "text/x-python",
   "name": "python",
   "nbconvert_exporter": "python",
   "pygments_lexer": "ipython3",
   "version": "3.8.11"
  }
 },
 "nbformat": 4,
 "nbformat_minor": 5
}
